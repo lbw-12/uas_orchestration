{
 "cells": [
  {
   "cell_type": "code",
   "execution_count": 1,
   "metadata": {},
   "outputs": [],
   "source": [
    "import rasterio\n",
    "import numpy as np\n",
    "import os\n"
   ]
  },
  {
   "cell_type": "code",
   "execution_count": 4,
   "metadata": {},
   "outputs": [
    {
     "name": "stdout",
     "output_type": "stream",
     "text": [
      "number of files: 9\n",
      "file: wooster_rgb_20230516.tif\n",
      "x_gsd: 0.00700, y_gsd: 0.00700\n",
      "file: wooster_ms_20230530.tif\n",
      "x_gsd: 0.03000, y_gsd: 0.03000\n",
      "file: wooster_rgb_20230530.tif\n",
      "x_gsd: 0.00700, y_gsd: 0.00700\n",
      "file: wooster_ms_20230523.tif\n",
      "x_gsd: 0.03000, y_gsd: 0.03000\n",
      "file: northwest_ms_20230525.tif\n",
      "x_gsd: 0.03000, y_gsd: 0.03000\n",
      "file: wooster_rgb_20230505.tif\n",
      "x_gsd: 0.10000, y_gsd: 0.10000\n",
      "file: western_ms_20230530.tif\n",
      "x_gsd: 0.03000, y_gsd: 0.03000\n",
      "file: western_rgb_20230530.tif\n",
      "x_gsd: 0.00700, y_gsd: 0.00700\n",
      "file: western_rgb_20230516.tif\n",
      "x_gsd: 0.00700, y_gsd: 0.00700\n"
     ]
    }
   ],
   "source": [
    "folder_path = '/fs/ess/PAS2699/nitrogen/data/uas/2025/orthomosaics/initial/'\n",
    "#folder_path = '/fs/ess/PAS2699/nitrogen/data/uas/2024/orthomosaics/v2_5_aligned/'\n",
    "#folder_path = '/fs/ess/PAS2699/nitrogen/data/uas/2023/orthomosaics/v2/'\n",
    "folder_path = '/fs/ess/PAS2699/nitrogen/data/uas/2023/orthomosaics/initial'\n",
    "\n",
    "\n",
    "\n",
    "# Load all of the filenames in the folder_path\n",
    "\n",
    "files = [f for f in os.listdir(folder_path) if f.endswith('.tif')]\n",
    "\n",
    "print(f'number of files: {len(files)}')\n",
    "\n",
    "for file in files:\n",
    "    abs_path = os.path.join(folder_path, file)\n",
    "    print(f'file: {file}')\n",
    "    with rasterio.open(abs_path) as src:\n",
    "        transform  = src.transform\n",
    "        x_gsd = abs(transform[0])\n",
    "        y_gsd = abs(transform[0])\n",
    "        print(f'x_gsd: {x_gsd:.5f}, y_gsd: {y_gsd:.5f}')\n"
   ]
  }
 ],
 "metadata": {
  "kernelspec": {
   "display_name": "harvest",
   "language": "python",
   "name": "python3"
  },
  "language_info": {
   "codemirror_mode": {
    "name": "ipython",
    "version": 3
   },
   "file_extension": ".py",
   "mimetype": "text/x-python",
   "name": "python",
   "nbconvert_exporter": "python",
   "pygments_lexer": "ipython3",
   "version": "3.9.18"
  }
 },
 "nbformat": 4,
 "nbformat_minor": 2
}
