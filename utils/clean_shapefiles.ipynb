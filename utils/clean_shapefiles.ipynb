{
 "cells": [
  {
   "cell_type": "code",
   "execution_count": 24,
   "metadata": {},
   "outputs": [
    {
     "data": {
      "text/plain": [
       "<module 'execution.orchestrate_funcs' from '/users/PAS2312/lwaltz/code/uas_orchestration-dev/execution/orchestrate_funcs.py'>"
      ]
     },
     "execution_count": 24,
     "metadata": {},
     "output_type": "execute_result"
    }
   ],
   "source": [
    "import geopandas as gpd\n",
    "import os\n",
    "from pathlib import Path\n",
    "import sys\n",
    "\n",
    "sys.path.append(os.path.abspath(os.path.join(os.getcwd(), \"..\")))\n",
    "\n",
    "import execution.orchestrate_funcs as orchestrate_funcs\n",
    "\n",
    "import importlib\n",
    "importlib.reload(orchestrate_funcs)\n",
    "    "
   ]
  },
  {
   "cell_type": "code",
   "execution_count": 27,
   "metadata": {},
   "outputs": [
    {
     "name": "stdout",
     "output_type": "stream",
     "text": [
      "gdf crs: EPSG:32617\n",
      "douglass_jeremiahnorth_pts has 8 points\n",
      "gdf crs: EPSG:32617\n",
      "douglass_jeremiahsouth_pts has 8 points\n",
      "gdf crs: EPSG:32617\n",
      "douglass_lincolnnorth_pts has 8 points\n",
      "gdf crs: EPSG:32617\n",
      "douglass_lincolnsouth_pts has 8 points\n",
      "gdf crs: EPSG:32616\n",
      "frantom_b89east_pts has 16 points\n",
      "gdf crs: EPSG:32616\n",
      "frantom_b89west_pts has 16 points\n",
      "gdf crs: EPSG:32617\n",
      "fsr_nitrogennorth_pts has 9 points\n",
      "gdf crs: EPSG:32617\n",
      "fsr_nitrogensouth_pts has 10 points\n",
      "gdf crs: EPSG:32617\n",
      "fsr_replanteast_pts has 6 points\n",
      "gdf crs: EPSG:32617\n",
      "fsr_replantwest_pts has 6 points\n",
      "gdf crs: EPSG:32616\n",
      "hoelshereast_pts has 10 points\n",
      "gdf crs: EPSG:32616\n",
      "hoelsherwest_pts has 11 points\n",
      "gdf crs: EPSG:32616\n",
      "kuntz_springhilleast_pts has 12 points\n",
      "gdf crs: EPSG:32616\n",
      "kuntz_springhillnorth_pts has 10 points\n",
      "gdf crs: EPSG:32616\n",
      "kuntz_springhillsouth_pts has 10 points\n",
      "gdf crs: EPSG:32617\n",
      "northwest_bftb_pts has 16 points\n",
      "gdf crs: EPSG:32617\n",
      "northwest_n_pts has 21 points\n",
      "gdf crs: EPSG:32617\n",
      "northwest_replant_pts has 16 points\n",
      "gdf crs: EPSG:32617\n",
      "western_bftb_pts has 15 points\n",
      "gdf crs: EPSG:32617\n",
      "western_ncc_pts has 16 points\n",
      "gdf crs: EPSG:32617\n",
      "western_nsc_pts has 16 points\n",
      "gdf crs: EPSG:32617\n",
      "western_replant_pts has 16 points\n",
      "gdf crs: EPSG:32617\n",
      "wooster_bftb_pts has 16 points\n",
      "gdf crs: EPSG:32617\n",
      "wooster_replant_pts has 16 points\n"
     ]
    }
   ],
   "source": [
    "input_folder = \"/fs/ess/PAS2699/nitrogen/data/uas/2025/shapefiles/alignment\"\n",
    "\n",
    "for folder in sorted(os.listdir(input_folder)):\n",
    "    if os.path.isdir(os.path.join(input_folder, folder)):\n",
    "        basename = os.path.basename(folder)\n",
    "        shapefile_name = f\"{basename}.shp\"\n",
    "        gdf = gpd.read_file(os.path.join(input_folder, folder, shapefile_name))\n",
    "        print(f'gdf crs: {gdf.crs}')\n",
    "        if gdf.crs == 'EPSG:4326':\n",
    "            utm_zone = orchestrate_funcs.get_utm_zone_from_gdf(gdf)\n",
    "            # transform the crs from 4326 to the utm zone\n",
    "            gdf = gdf.to_crs(utm_zone)\n",
    "            gdf.to_file(os.path.join(input_folder, folder, shapefile_name), driver='ESRI Shapefile')\n",
    "            print(f'utm_zone: {utm_zone}')\n",
    "        print(f'{basename} has {len(gdf)} points')\n",
    "        for index, row in gdf.iterrows(): \n",
    "            if row['geometry'] == None:\n",
    "                print(f'row: {row}')\n",
    "                "
   ]
  },
  {
   "cell_type": "code",
   "execution_count": 16,
   "metadata": {},
   "outputs": [
    {
     "name": "stdout",
     "output_type": "stream",
     "text": [
      "western_bftb_pts has 9 points\n",
      "gdf:    id                        geometry\n",
      "0 NaN  POINT (291745.531 4426752.399)\n",
      "1 NaN   POINT (291716.94 4426682.814)\n",
      "2 NaN   POINT (291685.406 4426605.03)\n",
      "3 NaN  POINT (291719.042 4426541.962)\n",
      "4 NaN  POINT (291835.088 4426490.666)\n",
      "5 NaN  POINT (292015.883 4426404.893)\n",
      "6 NaN  POINT (292170.611 4426333.416)\n",
      "7 NaN  POINT (292224.429 4426351.075)\n",
      "8 NaN  POINT (292152.111 4426412.462)\n",
      "gdf_cleaned:    id                        geometry\n",
      "0 NaN  POINT (291745.531 4426752.399)\n",
      "1 NaN   POINT (291716.94 4426682.814)\n",
      "2 NaN   POINT (291685.406 4426605.03)\n",
      "3 NaN  POINT (291719.042 4426541.962)\n",
      "4 NaN  POINT (291835.088 4426490.666)\n",
      "5 NaN  POINT (292015.883 4426404.893)\n",
      "6 NaN  POINT (292170.611 4426333.416)\n",
      "7 NaN  POINT (292224.429 4426351.075)\n",
      "8 NaN  POINT (292152.111 4426412.462)\n"
     ]
    }
   ],
   "source": [
    "alignment_file = \"/fs/ess/PAS2699/nitrogen/data/uas/2025/shapefiles/alignment/fsr_nitrogennorth_pts/fsr_nitrogennorth_pts.shp\"\n",
    "gdf = gpd.read_file(alignment_file)\n",
    "print(f'{basename} has {len(gdf)} points')\n",
    "print(f'gdf: {gdf}')\n",
    "\n",
    "gdf_cleaned = gdf.dropna(subset=['geometry'])\n",
    "print(f'gdf_cleaned: {gdf_cleaned}')\n",
    "\n",
    "gdf_cleaned.to_file(alignment_file, driver='ESRI Shapefile')\n",
    "        "
   ]
  },
  {
   "cell_type": "markdown",
   "metadata": {},
   "source": []
  }
 ],
 "metadata": {
  "kernelspec": {
   "display_name": "Python 3",
   "language": "python",
   "name": "python3"
  },
  "language_info": {
   "codemirror_mode": {
    "name": "ipython",
    "version": 3
   },
   "file_extension": ".py",
   "mimetype": "text/x-python",
   "name": "python",
   "nbconvert_exporter": "python",
   "pygments_lexer": "ipython3",
   "version": "3.9.23"
  }
 },
 "nbformat": 4,
 "nbformat_minor": 2
}
